{
 "cells": [
  {
   "cell_type": "markdown",
   "metadata": {},
   "source": [
    "# Logistic Regression"
   ]
  },
  {
   "cell_type": "code",
   "execution_count": 2,
   "metadata": {
    "scrolled": true
   },
   "outputs": [
    {
     "data": {
      "text/html": [
       "<div>\n",
       "<style scoped>\n",
       "    .dataframe tbody tr th:only-of-type {\n",
       "        vertical-align: middle;\n",
       "    }\n",
       "\n",
       "    .dataframe tbody tr th {\n",
       "        vertical-align: top;\n",
       "    }\n",
       "\n",
       "    .dataframe thead th {\n",
       "        text-align: right;\n",
       "    }\n",
       "</style>\n",
       "<table border=\"1\" class=\"dataframe\">\n",
       "  <thead>\n",
       "    <tr style=\"text-align: right;\">\n",
       "      <th></th>\n",
       "      <th>Year</th>\n",
       "      <th>Month</th>\n",
       "      <th>Day</th>\n",
       "      <th>Rain</th>\n",
       "      <th>Evap</th>\n",
       "      <th>MaxTemp</th>\n",
       "      <th>MinTemp</th>\n",
       "      <th>WindVelocity</th>\n",
       "      <th>Solar_Radiation</th>\n",
       "      <th>Bright_Sunshine</th>\n",
       "      <th>Rel_Humidity</th>\n",
       "      <th>PM2.5</th>\n",
       "    </tr>\n",
       "  </thead>\n",
       "  <tbody>\n",
       "    <tr>\n",
       "      <th>0</th>\n",
       "      <td>2018</td>\n",
       "      <td>1</td>\n",
       "      <td>1</td>\n",
       "      <td>0.0</td>\n",
       "      <td>3.3</td>\n",
       "      <td>29.8</td>\n",
       "      <td>10.4</td>\n",
       "      <td>2.4</td>\n",
       "      <td>16.2</td>\n",
       "      <td>9.3</td>\n",
       "      <td>89</td>\n",
       "      <td>56.22</td>\n",
       "    </tr>\n",
       "    <tr>\n",
       "      <th>1</th>\n",
       "      <td>2018</td>\n",
       "      <td>1</td>\n",
       "      <td>2</td>\n",
       "      <td>0.0</td>\n",
       "      <td>4.0</td>\n",
       "      <td>29.6</td>\n",
       "      <td>11.4</td>\n",
       "      <td>2.1</td>\n",
       "      <td>15.8</td>\n",
       "      <td>9.0</td>\n",
       "      <td>89</td>\n",
       "      <td>63.57</td>\n",
       "    </tr>\n",
       "    <tr>\n",
       "      <th>2</th>\n",
       "      <td>2018</td>\n",
       "      <td>1</td>\n",
       "      <td>3</td>\n",
       "      <td>0.0</td>\n",
       "      <td>3.6</td>\n",
       "      <td>29.2</td>\n",
       "      <td>13.4</td>\n",
       "      <td>3.2</td>\n",
       "      <td>12.7</td>\n",
       "      <td>8.4</td>\n",
       "      <td>88</td>\n",
       "      <td>72.61</td>\n",
       "    </tr>\n",
       "    <tr>\n",
       "      <th>3</th>\n",
       "      <td>2018</td>\n",
       "      <td>1</td>\n",
       "      <td>4</td>\n",
       "      <td>0.0</td>\n",
       "      <td>3.5</td>\n",
       "      <td>28.6</td>\n",
       "      <td>10.8</td>\n",
       "      <td>3.4</td>\n",
       "      <td>13.9</td>\n",
       "      <td>6.0</td>\n",
       "      <td>89</td>\n",
       "      <td>68.25</td>\n",
       "    </tr>\n",
       "    <tr>\n",
       "      <th>4</th>\n",
       "      <td>2018</td>\n",
       "      <td>1</td>\n",
       "      <td>5</td>\n",
       "      <td>0.0</td>\n",
       "      <td>4.6</td>\n",
       "      <td>28.2</td>\n",
       "      <td>9.6</td>\n",
       "      <td>4.4</td>\n",
       "      <td>14.1</td>\n",
       "      <td>7.3</td>\n",
       "      <td>88</td>\n",
       "      <td>70.88</td>\n",
       "    </tr>\n",
       "  </tbody>\n",
       "</table>\n",
       "</div>"
      ],
      "text/plain": [
       "   Year  Month  Day  Rain  Evap  MaxTemp  MinTemp  WindVelocity  \\\n",
       "0  2018      1    1   0.0   3.3     29.8     10.4           2.4   \n",
       "1  2018      1    2   0.0   4.0     29.6     11.4           2.1   \n",
       "2  2018      1    3   0.0   3.6     29.2     13.4           3.2   \n",
       "3  2018      1    4   0.0   3.5     28.6     10.8           3.4   \n",
       "4  2018      1    5   0.0   4.6     28.2      9.6           4.4   \n",
       "\n",
       "   Solar_Radiation  Bright_Sunshine  Rel_Humidity  PM2.5  \n",
       "0             16.2              9.3            89  56.22  \n",
       "1             15.8              9.0            89  63.57  \n",
       "2             12.7              8.4            88  72.61  \n",
       "3             13.9              6.0            89  68.25  \n",
       "4             14.1              7.3            88  70.88  "
      ]
     },
     "execution_count": 2,
     "metadata": {},
     "output_type": "execute_result"
    }
   ],
   "source": [
    "import pandas as pd\n",
    "import os\n",
    "import numpy as np\n",
    "import matplotlib.pyplot as plt\n",
    "import seaborn as sns\n",
    "os.getcwd()\n",
    "\n",
    "os.chdir('C:\\\\Users\\\\iZfig\\OneDrive\\Desktop\\Mini_project\\DataSet')\n",
    "\n",
    "df=pd.read_csv('df_clean.csv')\n",
    "df.head()"
   ]
  },
  {
   "cell_type": "code",
   "execution_count": 3,
   "metadata": {},
   "outputs": [
    {
     "data": {
      "text/html": [
       "<div>\n",
       "<style scoped>\n",
       "    .dataframe tbody tr th:only-of-type {\n",
       "        vertical-align: middle;\n",
       "    }\n",
       "\n",
       "    .dataframe tbody tr th {\n",
       "        vertical-align: top;\n",
       "    }\n",
       "\n",
       "    .dataframe thead th {\n",
       "        text-align: right;\n",
       "    }\n",
       "</style>\n",
       "<table border=\"1\" class=\"dataframe\">\n",
       "  <thead>\n",
       "    <tr style=\"text-align: right;\">\n",
       "      <th></th>\n",
       "      <th>Year</th>\n",
       "      <th>Month</th>\n",
       "      <th>Day</th>\n",
       "      <th>Rain</th>\n",
       "      <th>Evap</th>\n",
       "      <th>MaxTemp</th>\n",
       "      <th>MinTemp</th>\n",
       "      <th>WindVelocity</th>\n",
       "      <th>Solar_Radiation</th>\n",
       "      <th>Bright_Sunshine</th>\n",
       "      <th>Rel_Humidity</th>\n",
       "      <th>PM2.5</th>\n",
       "    </tr>\n",
       "  </thead>\n",
       "  <tbody>\n",
       "    <tr>\n",
       "      <th>0</th>\n",
       "      <td>2018</td>\n",
       "      <td>1</td>\n",
       "      <td>1</td>\n",
       "      <td>0.0</td>\n",
       "      <td>3.3</td>\n",
       "      <td>29.8</td>\n",
       "      <td>10.4</td>\n",
       "      <td>2.4</td>\n",
       "      <td>16.2</td>\n",
       "      <td>9.3</td>\n",
       "      <td>89</td>\n",
       "      <td>56.22</td>\n",
       "    </tr>\n",
       "    <tr>\n",
       "      <th>1</th>\n",
       "      <td>2018</td>\n",
       "      <td>1</td>\n",
       "      <td>2</td>\n",
       "      <td>0.0</td>\n",
       "      <td>4.0</td>\n",
       "      <td>29.6</td>\n",
       "      <td>11.4</td>\n",
       "      <td>2.1</td>\n",
       "      <td>15.8</td>\n",
       "      <td>9.0</td>\n",
       "      <td>89</td>\n",
       "      <td>63.57</td>\n",
       "    </tr>\n",
       "    <tr>\n",
       "      <th>2</th>\n",
       "      <td>2018</td>\n",
       "      <td>1</td>\n",
       "      <td>3</td>\n",
       "      <td>0.0</td>\n",
       "      <td>3.6</td>\n",
       "      <td>29.2</td>\n",
       "      <td>13.4</td>\n",
       "      <td>3.2</td>\n",
       "      <td>12.7</td>\n",
       "      <td>8.4</td>\n",
       "      <td>88</td>\n",
       "      <td>72.61</td>\n",
       "    </tr>\n",
       "    <tr>\n",
       "      <th>3</th>\n",
       "      <td>2018</td>\n",
       "      <td>1</td>\n",
       "      <td>4</td>\n",
       "      <td>0.0</td>\n",
       "      <td>3.5</td>\n",
       "      <td>28.6</td>\n",
       "      <td>10.8</td>\n",
       "      <td>3.4</td>\n",
       "      <td>13.9</td>\n",
       "      <td>6.0</td>\n",
       "      <td>89</td>\n",
       "      <td>68.25</td>\n",
       "    </tr>\n",
       "    <tr>\n",
       "      <th>4</th>\n",
       "      <td>2018</td>\n",
       "      <td>1</td>\n",
       "      <td>5</td>\n",
       "      <td>0.0</td>\n",
       "      <td>4.6</td>\n",
       "      <td>28.2</td>\n",
       "      <td>9.6</td>\n",
       "      <td>4.4</td>\n",
       "      <td>14.1</td>\n",
       "      <td>7.3</td>\n",
       "      <td>88</td>\n",
       "      <td>70.88</td>\n",
       "    </tr>\n",
       "  </tbody>\n",
       "</table>\n",
       "</div>"
      ],
      "text/plain": [
       "   Year  Month  Day  Rain  Evap  MaxTemp  MinTemp  WindVelocity  \\\n",
       "0  2018      1    1   0.0   3.3     29.8     10.4           2.4   \n",
       "1  2018      1    2   0.0   4.0     29.6     11.4           2.1   \n",
       "2  2018      1    3   0.0   3.6     29.2     13.4           3.2   \n",
       "3  2018      1    4   0.0   3.5     28.6     10.8           3.4   \n",
       "4  2018      1    5   0.0   4.6     28.2      9.6           4.4   \n",
       "\n",
       "   Solar_Radiation  Bright_Sunshine  Rel_Humidity  PM2.5  \n",
       "0             16.2              9.3            89  56.22  \n",
       "1             15.8              9.0            89  63.57  \n",
       "2             12.7              8.4            88  72.61  \n",
       "3             13.9              6.0            89  68.25  \n",
       "4             14.1              7.3            88  70.88  "
      ]
     },
     "execution_count": 3,
     "metadata": {},
     "output_type": "execute_result"
    }
   ],
   "source": [
    "df.head()"
   ]
  },
  {
   "cell_type": "markdown",
   "metadata": {},
   "source": [
    "# NO Null Values "
   ]
  },
  {
   "cell_type": "markdown",
   "metadata": {},
   "source": [
    "# Data Transformation\n",
    "For Logistic Regression Target has to be a Categorical Value."
   ]
  },
  {
   "cell_type": "code",
   "execution_count": 4,
   "metadata": {},
   "outputs": [
    {
     "data": {
      "text/plain": [
       "0      1\n",
       "1      1\n",
       "2      1\n",
       "3      1\n",
       "4      1\n",
       "5      1\n",
       "6      1\n",
       "7      1\n",
       "8      1\n",
       "9      1\n",
       "10     1\n",
       "11     1\n",
       "12     1\n",
       "13     1\n",
       "14     1\n",
       "15     1\n",
       "16     1\n",
       "17     1\n",
       "18     1\n",
       "19     1\n",
       "20     1\n",
       "21     1\n",
       "22     1\n",
       "23     1\n",
       "24     1\n",
       "25     1\n",
       "26     1\n",
       "27     1\n",
       "28     1\n",
       "29     0\n",
       "      ..\n",
       "555    0\n",
       "556    0\n",
       "557    0\n",
       "558    0\n",
       "559    0\n",
       "560    0\n",
       "561    0\n",
       "562    0\n",
       "563    0\n",
       "564    0\n",
       "565    0\n",
       "566    0\n",
       "567    0\n",
       "568    0\n",
       "569    0\n",
       "570    0\n",
       "571    0\n",
       "572    0\n",
       "573    0\n",
       "574    0\n",
       "575    0\n",
       "576    0\n",
       "577    0\n",
       "578    0\n",
       "579    0\n",
       "580    0\n",
       "581    0\n",
       "582    0\n",
       "583    0\n",
       "584    0\n",
       "Name: target_cd, Length: 585, dtype: category\n",
       "Categories (2, int64): [0 < 1]"
      ]
     },
     "execution_count": 4,
     "metadata": {},
     "output_type": "execute_result"
    }
   ],
   "source": [
    "df['target_cd'] = pd.cut(df['PM2.5'],bins=[0,50,500], labels=[0,1])\n",
    "df['target_cd']"
   ]
  },
  {
   "cell_type": "code",
   "execution_count": 5,
   "metadata": {},
   "outputs": [
    {
     "data": {
      "text/html": [
       "<div>\n",
       "<style scoped>\n",
       "    .dataframe tbody tr th:only-of-type {\n",
       "        vertical-align: middle;\n",
       "    }\n",
       "\n",
       "    .dataframe tbody tr th {\n",
       "        vertical-align: top;\n",
       "    }\n",
       "\n",
       "    .dataframe thead th {\n",
       "        text-align: right;\n",
       "    }\n",
       "</style>\n",
       "<table border=\"1\" class=\"dataframe\">\n",
       "  <thead>\n",
       "    <tr style=\"text-align: right;\">\n",
       "      <th></th>\n",
       "      <th>Year</th>\n",
       "      <th>Month</th>\n",
       "      <th>Day</th>\n",
       "      <th>Rain</th>\n",
       "      <th>Evap</th>\n",
       "      <th>MaxTemp</th>\n",
       "      <th>MinTemp</th>\n",
       "      <th>WindVelocity</th>\n",
       "      <th>Solar_Radiation</th>\n",
       "      <th>Bright_Sunshine</th>\n",
       "      <th>Rel_Humidity</th>\n",
       "      <th>PM2.5</th>\n",
       "      <th>target_cd</th>\n",
       "    </tr>\n",
       "  </thead>\n",
       "  <tbody>\n",
       "    <tr>\n",
       "      <th>0</th>\n",
       "      <td>2018</td>\n",
       "      <td>1</td>\n",
       "      <td>1</td>\n",
       "      <td>0.0</td>\n",
       "      <td>3.3</td>\n",
       "      <td>29.8</td>\n",
       "      <td>10.4</td>\n",
       "      <td>2.4</td>\n",
       "      <td>16.2</td>\n",
       "      <td>9.3</td>\n",
       "      <td>89</td>\n",
       "      <td>56.22</td>\n",
       "      <td>1</td>\n",
       "    </tr>\n",
       "    <tr>\n",
       "      <th>1</th>\n",
       "      <td>2018</td>\n",
       "      <td>1</td>\n",
       "      <td>2</td>\n",
       "      <td>0.0</td>\n",
       "      <td>4.0</td>\n",
       "      <td>29.6</td>\n",
       "      <td>11.4</td>\n",
       "      <td>2.1</td>\n",
       "      <td>15.8</td>\n",
       "      <td>9.0</td>\n",
       "      <td>89</td>\n",
       "      <td>63.57</td>\n",
       "      <td>1</td>\n",
       "    </tr>\n",
       "    <tr>\n",
       "      <th>2</th>\n",
       "      <td>2018</td>\n",
       "      <td>1</td>\n",
       "      <td>3</td>\n",
       "      <td>0.0</td>\n",
       "      <td>3.6</td>\n",
       "      <td>29.2</td>\n",
       "      <td>13.4</td>\n",
       "      <td>3.2</td>\n",
       "      <td>12.7</td>\n",
       "      <td>8.4</td>\n",
       "      <td>88</td>\n",
       "      <td>72.61</td>\n",
       "      <td>1</td>\n",
       "    </tr>\n",
       "    <tr>\n",
       "      <th>3</th>\n",
       "      <td>2018</td>\n",
       "      <td>1</td>\n",
       "      <td>4</td>\n",
       "      <td>0.0</td>\n",
       "      <td>3.5</td>\n",
       "      <td>28.6</td>\n",
       "      <td>10.8</td>\n",
       "      <td>3.4</td>\n",
       "      <td>13.9</td>\n",
       "      <td>6.0</td>\n",
       "      <td>89</td>\n",
       "      <td>68.25</td>\n",
       "      <td>1</td>\n",
       "    </tr>\n",
       "    <tr>\n",
       "      <th>4</th>\n",
       "      <td>2018</td>\n",
       "      <td>1</td>\n",
       "      <td>5</td>\n",
       "      <td>0.0</td>\n",
       "      <td>4.6</td>\n",
       "      <td>28.2</td>\n",
       "      <td>9.6</td>\n",
       "      <td>4.4</td>\n",
       "      <td>14.1</td>\n",
       "      <td>7.3</td>\n",
       "      <td>88</td>\n",
       "      <td>70.88</td>\n",
       "      <td>1</td>\n",
       "    </tr>\n",
       "  </tbody>\n",
       "</table>\n",
       "</div>"
      ],
      "text/plain": [
       "   Year  Month  Day  Rain  Evap  MaxTemp  MinTemp  WindVelocity  \\\n",
       "0  2018      1    1   0.0   3.3     29.8     10.4           2.4   \n",
       "1  2018      1    2   0.0   4.0     29.6     11.4           2.1   \n",
       "2  2018      1    3   0.0   3.6     29.2     13.4           3.2   \n",
       "3  2018      1    4   0.0   3.5     28.6     10.8           3.4   \n",
       "4  2018      1    5   0.0   4.6     28.2      9.6           4.4   \n",
       "\n",
       "   Solar_Radiation  Bright_Sunshine  Rel_Humidity  PM2.5 target_cd  \n",
       "0             16.2              9.3            89  56.22         1  \n",
       "1             15.8              9.0            89  63.57         1  \n",
       "2             12.7              8.4            88  72.61         1  \n",
       "3             13.9              6.0            89  68.25         1  \n",
       "4             14.1              7.3            88  70.88         1  "
      ]
     },
     "execution_count": 5,
     "metadata": {},
     "output_type": "execute_result"
    }
   ],
   "source": [
    "df.head()"
   ]
  },
  {
   "cell_type": "code",
   "execution_count": 6,
   "metadata": {},
   "outputs": [
    {
     "data": {
      "text/plain": [
       "0    418\n",
       "1    167\n",
       "Name: target_cd, dtype: int64"
      ]
     },
     "execution_count": 6,
     "metadata": {},
     "output_type": "execute_result"
    }
   ],
   "source": [
    "df[\"target_cd\"].value_counts()\n"
   ]
  },
  {
   "cell_type": "code",
   "execution_count": 7,
   "metadata": {},
   "outputs": [],
   "source": [
    "X = df[[\"Year\", \"Month\",\"Rain\",\"MinTemp\",\"WindVelocity\"]]\n",
    "y = df[\"target_cd\"]"
   ]
  },
  {
   "cell_type": "markdown",
   "metadata": {},
   "source": [
    "# Train Test Split"
   ]
  },
  {
   "cell_type": "code",
   "execution_count": 8,
   "metadata": {},
   "outputs": [],
   "source": [
    "\n",
    "from sklearn.model_selection import train_test_split\n",
    "X_train, X_test, y_train, y_test = train_test_split(X, y,test_size = 0.4, random_state=1)"
   ]
  },
  {
   "cell_type": "code",
   "execution_count": 9,
   "metadata": {},
   "outputs": [
    {
     "name": "stdout",
     "output_type": "stream",
     "text": [
      "<class 'pandas.core.frame.DataFrame'>\n",
      "Int64Index: 351 entries, 395 to 37\n",
      "Data columns (total 5 columns):\n",
      "Year            351 non-null int64\n",
      "Month           351 non-null int64\n",
      "Rain            351 non-null float64\n",
      "MinTemp         351 non-null float64\n",
      "WindVelocity    351 non-null float64\n",
      "dtypes: float64(3), int64(2)\n",
      "memory usage: 16.5 KB\n"
     ]
    }
   ],
   "source": [
    "X_train.info()"
   ]
  },
  {
   "cell_type": "code",
   "execution_count": 10,
   "metadata": {},
   "outputs": [
    {
     "data": {
      "text/plain": [
       "395    1\n",
       "577    0\n",
       "293    1\n",
       "245    0\n",
       "115    0\n",
       "335    1\n",
       "404    0\n",
       "533    0\n",
       "494    0\n",
       "315    1\n",
       "139    0\n",
       "106    0\n",
       "82     1\n",
       "204    0\n",
       "244    0\n",
       "221    0\n",
       "246    0\n",
       "379    0\n",
       "88     0\n",
       "185    0\n",
       "323    1\n",
       "419    1\n",
       "528    0\n",
       "249    0\n",
       "122    0\n",
       "164    0\n",
       "579    0\n",
       "239    0\n",
       "392    0\n",
       "498    0\n",
       "      ..\n",
       "209    0\n",
       "316    0\n",
       "513    0\n",
       "313    1\n",
       "534    0\n",
       "319    0\n",
       "7      1\n",
       "393    1\n",
       "141    0\n",
       "86     0\n",
       "478    0\n",
       "503    0\n",
       "215    0\n",
       "562    0\n",
       "398    0\n",
       "490    0\n",
       "252    0\n",
       "468    0\n",
       "357    1\n",
       "254    0\n",
       "276    1\n",
       "178    0\n",
       "281    1\n",
       "390    1\n",
       "508    0\n",
       "129    0\n",
       "144    0\n",
       "72     0\n",
       "235    0\n",
       "37     0\n",
       "Name: target_cd, Length: 351, dtype: category\n",
       "Categories (2, int64): [0 < 1]"
      ]
     },
     "execution_count": 10,
     "metadata": {},
     "output_type": "execute_result"
    }
   ],
   "source": [
    "y_train"
   ]
  },
  {
   "cell_type": "code",
   "execution_count": 11,
   "metadata": {},
   "outputs": [
    {
     "data": {
      "text/plain": [
       "array([[2.019e+03, 2.000e+00, 0.000e+00, 1.840e+01, 9.400e+00],\n",
       "       [2.019e+03, 8.000e+00, 6.000e-01, 2.280e+01, 6.200e+00],\n",
       "       [2.018e+03, 1.000e+01, 6.000e-01, 2.220e+01, 3.700e+00],\n",
       "       ...,\n",
       "       [2.018e+03, 3.000e+00, 4.000e-01, 1.880e+01, 7.100e+00],\n",
       "       [2.018e+03, 8.000e+00, 4.500e+00, 2.220e+01, 9.600e+00],\n",
       "       [2.018e+03, 2.000e+00, 0.000e+00, 1.360e+01, 4.200e+00]])"
      ]
     },
     "execution_count": 11,
     "metadata": {},
     "output_type": "execute_result"
    }
   ],
   "source": [
    "features = X_train.iloc[:,:].values\n",
    "features"
   ]
  },
  {
   "cell_type": "code",
   "execution_count": 12,
   "metadata": {},
   "outputs": [
    {
     "data": {
      "text/plain": [
       "[1, 0, 1, 0, 0, ..., 0, 0, 0, 0, 0]\n",
       "Length: 351\n",
       "Categories (2, int64): [0 < 1]"
      ]
     },
     "execution_count": 12,
     "metadata": {},
     "output_type": "execute_result"
    }
   ],
   "source": [
    "labels = y_train.iloc[:].values\n",
    "labels"
   ]
  },
  {
   "cell_type": "code",
   "execution_count": 13,
   "metadata": {},
   "outputs": [],
   "source": [
    "X=features\n",
    "y=labels"
   ]
  },
  {
   "cell_type": "markdown",
   "metadata": {},
   "source": [
    "# Instantiate Logistic Regression model\n",
    "After Feature Selection,we instantiate LogisticRegression model and fit the Features and target to the Model"
   ]
  },
  {
   "cell_type": "code",
   "execution_count": 14,
   "metadata": {},
   "outputs": [
    {
     "name": "stderr",
     "output_type": "stream",
     "text": [
      "C:\\ProgramData\\Anaconda3\\lib\\site-packages\\sklearn\\linear_model\\logistic.py:432: FutureWarning: Default solver will be changed to 'lbfgs' in 0.22. Specify a solver to silence this warning.\n",
      "  FutureWarning)\n"
     ]
    },
    {
     "data": {
      "text/plain": [
       "LogisticRegression(C=1.0, class_weight=None, dual=False, fit_intercept=True,\n",
       "                   intercept_scaling=1, l1_ratio=None, max_iter=100,\n",
       "                   multi_class='warn', n_jobs=None, penalty='l2',\n",
       "                   random_state=0, solver='warn', tol=0.0001, verbose=0,\n",
       "                   warm_start=False)"
      ]
     },
     "execution_count": 14,
     "metadata": {},
     "output_type": "execute_result"
    }
   ],
   "source": [
    "from sklearn.linear_model.logistic import LogisticRegression\n",
    "lgsr=LogisticRegression(random_state=0)\n",
    "lgsr.fit(X,y)"
   ]
  },
  {
   "cell_type": "code",
   "execution_count": 15,
   "metadata": {},
   "outputs": [
    {
     "data": {
      "text/plain": [
       "array([1, 0, 1, 1, 1, 0, 0, 0, 1, 0, 0, 0, 0, 0, 0, 0, 0, 0, 0, 0, 0, 0,\n",
       "       0, 0, 0, 0, 0, 0, 0, 1, 1, 0, 0, 0, 0, 0, 0, 0, 0, 0, 0, 0, 0, 0,\n",
       "       0, 0, 0, 1, 0, 0, 0, 0, 0, 0, 1, 0, 0, 0, 0, 0, 1, 1, 0, 0, 0, 0,\n",
       "       1, 0, 0, 0, 0, 0, 0, 0, 1, 1, 0, 1, 0, 0, 0, 1, 1, 0, 0, 0, 0, 1,\n",
       "       1, 1, 0, 0, 1, 0, 0, 0, 0, 0, 0, 0, 0, 0, 1, 0, 0, 1, 0, 1, 1, 0,\n",
       "       0, 0, 1, 0, 0, 0, 1, 1, 0, 0, 0, 0, 0, 1, 1, 0, 0, 0, 0, 0, 0, 0,\n",
       "       0, 0, 0, 0, 0, 0, 0, 1, 1, 0, 0, 1, 1, 1, 0, 0, 1, 0, 0, 1, 1, 0,\n",
       "       0, 0, 0, 0, 0, 1, 0, 0, 0, 0, 0, 1, 1, 0, 0, 1, 0, 0, 1, 0, 0, 0,\n",
       "       1, 0, 0, 0, 0, 0, 0, 0, 0, 1, 0, 0, 0, 0, 1, 0, 0, 0, 1, 0, 1, 1,\n",
       "       0, 1, 1, 0, 0, 0, 0, 0, 1, 0, 0, 0, 0, 0, 1, 1, 1, 1, 0, 0, 0, 0,\n",
       "       0, 0, 1, 0, 1, 1, 1, 1, 0, 0, 0, 0, 0, 0], dtype=int64)"
      ]
     },
     "execution_count": 15,
     "metadata": {},
     "output_type": "execute_result"
    }
   ],
   "source": [
    "y_predictions=lgsr.predict(X_test)\n",
    "y_predictions"
   ]
  },
  {
   "cell_type": "code",
   "execution_count": 16,
   "metadata": {},
   "outputs": [
    {
     "data": {
      "text/plain": [
       "array([[156,  17],\n",
       "       [ 13,  48]], dtype=int64)"
      ]
     },
     "execution_count": 16,
     "metadata": {},
     "output_type": "execute_result"
    }
   ],
   "source": [
    "#Check model accuracy\n",
    "from sklearn.metrics import confusion_matrix\n",
    "conf_matrix=confusion_matrix(y_predictions,y_test)\n",
    "conf_matrix"
   ]
  },
  {
   "cell_type": "code",
   "execution_count": 17,
   "metadata": {},
   "outputs": [
    {
     "data": {
      "text/plain": [
       "0.8717948717948718"
      ]
     },
     "execution_count": 17,
     "metadata": {},
     "output_type": "execute_result"
    }
   ],
   "source": [
    "from sklearn.metrics import accuracy_score\n",
    "acc_sco=accuracy_score(y_test,y_predictions)\n",
    "acc_sco"
   ]
  },
  {
   "cell_type": "code",
   "execution_count": 18,
   "metadata": {},
   "outputs": [
    {
     "name": "stdout",
     "output_type": "stream",
     "text": [
      "Slope: [[ 0.00426369  0.09548695 -0.07554334 -0.3931655  -0.40691431]]\n",
      "Intercept: [-2.91973388e-05]\n",
      "\n",
      "\n"
     ]
    }
   ],
   "source": [
    "#Evaluating the model \n",
    "from sklearn.metrics import mean_squared_error, r2_score\n",
    "\n",
    "# printing values\n",
    "print('Slope:' ,lgsr.coef_)\n",
    "print('Intercept:', lgsr.intercept_)\n",
    "print(\"\\n\")"
   ]
  },
  {
   "cell_type": "markdown",
   "metadata": {},
   "source": [
    " # IPY Widget for Prediction using Logistic Regression model"
   ]
  },
  {
   "cell_type": "code",
   "execution_count": 26,
   "metadata": {},
   "outputs": [
    {
     "data": {
      "application/vnd.jupyter.widget-view+json": {
       "model_id": "29936952583d468a8290f7b703ef4806",
       "version_major": 2,
       "version_minor": 0
      },
      "text/plain": [
       "FloatText(value=7.5, description='Year:')"
      ]
     },
     "metadata": {},
     "output_type": "display_data"
    },
    {
     "data": {
      "application/vnd.jupyter.widget-view+json": {
       "model_id": "343913453a274e038714f4a396943dfe",
       "version_major": 2,
       "version_minor": 0
      },
      "text/plain": [
       "FloatText(value=7.5, description='Month:')"
      ]
     },
     "metadata": {},
     "output_type": "display_data"
    },
    {
     "data": {
      "application/vnd.jupyter.widget-view+json": {
       "model_id": "72c781a92d2b41f9ba744d2c8de22d5f",
       "version_major": 2,
       "version_minor": 0
      },
      "text/plain": [
       "FloatText(value=7.5, description='Rainfall in mm:')"
      ]
     },
     "metadata": {},
     "output_type": "display_data"
    },
    {
     "data": {
      "application/vnd.jupyter.widget-view+json": {
       "model_id": "4a94caf285da413296b87bf6e7951c6f",
       "version_major": 2,
       "version_minor": 0
      },
      "text/plain": [
       "FloatText(value=7.5, description='Temp in C:')"
      ]
     },
     "metadata": {},
     "output_type": "display_data"
    },
    {
     "data": {
      "application/vnd.jupyter.widget-view+json": {
       "model_id": "9b8de902df304a6cba8d96af416ebc7b",
       "version_major": 2,
       "version_minor": 0
      },
      "text/plain": [
       "FloatText(value=7.5, description='Wind Velocity in kmph:')"
      ]
     },
     "metadata": {},
     "output_type": "display_data"
    }
   ],
   "source": [
    "import ipywidgets as widgets\n",
    "from ipywidgets import interact, interact_manual\n",
    "\n",
    "from IPython.display import display\n",
    "t1=widgets.FloatText(\n",
    "    value=7.5,\n",
    "    description='Year:',\n",
    "    disabled=False\n",
    ")\n",
    "t2=widgets.FloatText(\n",
    "    value=7.5,\n",
    "    description='Month:',\n",
    "    disabled=False\n",
    ")\n",
    "t3=widgets.FloatText(\n",
    "    value=7.5,\n",
    "    description='Rainfall in mm:',\n",
    "    disabled=False\n",
    ")\n",
    "t4=widgets.FloatText(\n",
    "    value=7.5,\n",
    "    description='Temp in C:',\n",
    "    disabled=False\n",
    ")\n",
    "t5=widgets.FloatText(\n",
    "    value=7.5,\n",
    "    description='Wind Velocity in kmph:',\n",
    "    disabled=False\n",
    ")\n",
    "\n",
    "\n",
    "display(t1,t2,t3,t4,t5)\n"
   ]
  },
  {
   "cell_type": "code",
   "execution_count": 27,
   "metadata": {},
   "outputs": [
    {
     "data": {
      "application/vnd.jupyter.widget-view+json": {
       "model_id": "29936952583d468a8290f7b703ef4806",
       "version_major": 2,
       "version_minor": 0
      },
      "text/plain": [
       "FloatText(value=7.5, description='Year:')"
      ]
     },
     "metadata": {},
     "output_type": "display_data"
    },
    {
     "data": {
      "application/vnd.jupyter.widget-view+json": {
       "model_id": "343913453a274e038714f4a396943dfe",
       "version_major": 2,
       "version_minor": 0
      },
      "text/plain": [
       "FloatText(value=7.5, description='Month:')"
      ]
     },
     "metadata": {},
     "output_type": "display_data"
    },
    {
     "data": {
      "application/vnd.jupyter.widget-view+json": {
       "model_id": "72c781a92d2b41f9ba744d2c8de22d5f",
       "version_major": 2,
       "version_minor": 0
      },
      "text/plain": [
       "FloatText(value=7.5, description='Rainfall in mm:')"
      ]
     },
     "metadata": {},
     "output_type": "display_data"
    },
    {
     "data": {
      "application/vnd.jupyter.widget-view+json": {
       "model_id": "4a94caf285da413296b87bf6e7951c6f",
       "version_major": 2,
       "version_minor": 0
      },
      "text/plain": [
       "FloatText(value=7.5, description='Temp in C:')"
      ]
     },
     "metadata": {},
     "output_type": "display_data"
    },
    {
     "data": {
      "application/vnd.jupyter.widget-view+json": {
       "model_id": "9b8de902df304a6cba8d96af416ebc7b",
       "version_major": 2,
       "version_minor": 0
      },
      "text/plain": [
       "FloatText(value=7.5, description='Wind Velocity in kmph:')"
      ]
     },
     "metadata": {},
     "output_type": "display_data"
    },
    {
     "data": {
      "application/vnd.jupyter.widget-view+json": {
       "model_id": "52aa96850f244d70acfaa312b684057c",
       "version_major": 2,
       "version_minor": 0
      },
      "text/plain": [
       "Output(layout=Layout(border='5px solid green'))"
      ]
     },
     "metadata": {},
     "output_type": "display_data"
    }
   ],
   "source": [
    "out = widgets.Output(layout={'border': '5px solid green'})\n",
    "pred= lgsr.predict([[(t1.value),(t2.value),(t3.value),(t4.value),(t5.value)]])\n",
    "with out:\n",
    "    if pred==1:\n",
    "        print(\"PM2.5 Concentration is high\")\n",
    "    else:\n",
    "        print(\"PM2.5 Concentration is low\")\n",
    "display(t1,t2,t3,t4,t5,out)"
   ]
  },
  {
   "cell_type": "code",
   "execution_count": null,
   "metadata": {},
   "outputs": [],
   "source": []
  }
 ],
 "metadata": {
  "kernelspec": {
   "display_name": "Python 3",
   "language": "python",
   "name": "python3"
  },
  "language_info": {
   "codemirror_mode": {
    "name": "ipython",
    "version": 3
   },
   "file_extension": ".py",
   "mimetype": "text/x-python",
   "name": "python",
   "nbconvert_exporter": "python",
   "pygments_lexer": "ipython3",
   "version": "3.7.3"
  }
 },
 "nbformat": 4,
 "nbformat_minor": 2
}
