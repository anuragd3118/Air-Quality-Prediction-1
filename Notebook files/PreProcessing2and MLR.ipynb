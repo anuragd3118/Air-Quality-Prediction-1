{
 "cells": [
  {
   "cell_type": "markdown",
   "metadata": {},
   "source": [
    "# Pre-Processing Data Cleaning:\n",
    "NaN values and Outliers have to removed,so that the data is Machine Learning ready. "
   ]
  },
  {
   "cell_type": "code",
   "execution_count": 3,
   "metadata": {},
   "outputs": [
    {
     "data": {
      "text/html": [
       "<div>\n",
       "<style scoped>\n",
       "    .dataframe tbody tr th:only-of-type {\n",
       "        vertical-align: middle;\n",
       "    }\n",
       "\n",
       "    .dataframe tbody tr th {\n",
       "        vertical-align: top;\n",
       "    }\n",
       "\n",
       "    .dataframe thead th {\n",
       "        text-align: right;\n",
       "    }\n",
       "</style>\n",
       "<table border=\"1\" class=\"dataframe\">\n",
       "  <thead>\n",
       "    <tr style=\"text-align: right;\">\n",
       "      <th></th>\n",
       "      <th>Year</th>\n",
       "      <th>Month</th>\n",
       "      <th>Day</th>\n",
       "      <th>Rain</th>\n",
       "      <th>Evap</th>\n",
       "      <th>MaxTemp</th>\n",
       "      <th>MinTemp</th>\n",
       "      <th>WindVelocity</th>\n",
       "      <th>Solar_Radiation</th>\n",
       "      <th>Bright_Sunshine</th>\n",
       "      <th>Rel_Humidity</th>\n",
       "      <th>PM2.5</th>\n",
       "    </tr>\n",
       "  </thead>\n",
       "  <tbody>\n",
       "    <tr>\n",
       "      <th>0</th>\n",
       "      <td>2018</td>\n",
       "      <td>1</td>\n",
       "      <td>1</td>\n",
       "      <td>0.0</td>\n",
       "      <td>3.3</td>\n",
       "      <td>29.8</td>\n",
       "      <td>10.4</td>\n",
       "      <td>2.4</td>\n",
       "      <td>16.2</td>\n",
       "      <td>9.3</td>\n",
       "      <td>89</td>\n",
       "      <td>56.22</td>\n",
       "    </tr>\n",
       "    <tr>\n",
       "      <th>1</th>\n",
       "      <td>2018</td>\n",
       "      <td>1</td>\n",
       "      <td>2</td>\n",
       "      <td>0.0</td>\n",
       "      <td>4.0</td>\n",
       "      <td>29.6</td>\n",
       "      <td>11.4</td>\n",
       "      <td>2.1</td>\n",
       "      <td>15.8</td>\n",
       "      <td>9.0</td>\n",
       "      <td>89</td>\n",
       "      <td>63.57</td>\n",
       "    </tr>\n",
       "    <tr>\n",
       "      <th>2</th>\n",
       "      <td>2018</td>\n",
       "      <td>1</td>\n",
       "      <td>3</td>\n",
       "      <td>0.0</td>\n",
       "      <td>3.6</td>\n",
       "      <td>29.2</td>\n",
       "      <td>13.4</td>\n",
       "      <td>3.2</td>\n",
       "      <td>12.7</td>\n",
       "      <td>8.4</td>\n",
       "      <td>88</td>\n",
       "      <td>72.61</td>\n",
       "    </tr>\n",
       "    <tr>\n",
       "      <th>3</th>\n",
       "      <td>2018</td>\n",
       "      <td>1</td>\n",
       "      <td>4</td>\n",
       "      <td>0.0</td>\n",
       "      <td>3.5</td>\n",
       "      <td>28.6</td>\n",
       "      <td>10.8</td>\n",
       "      <td>3.4</td>\n",
       "      <td>13.9</td>\n",
       "      <td>6.0</td>\n",
       "      <td>89</td>\n",
       "      <td>68.25</td>\n",
       "    </tr>\n",
       "    <tr>\n",
       "      <th>4</th>\n",
       "      <td>2018</td>\n",
       "      <td>1</td>\n",
       "      <td>5</td>\n",
       "      <td>0.0</td>\n",
       "      <td>4.6</td>\n",
       "      <td>28.2</td>\n",
       "      <td>9.6</td>\n",
       "      <td>4.4</td>\n",
       "      <td>14.1</td>\n",
       "      <td>7.3</td>\n",
       "      <td>88</td>\n",
       "      <td>70.88</td>\n",
       "    </tr>\n",
       "  </tbody>\n",
       "</table>\n",
       "</div>"
      ],
      "text/plain": [
       "   Year  Month  Day  Rain  Evap  MaxTemp  MinTemp  WindVelocity  \\\n",
       "0  2018      1    1   0.0   3.3     29.8     10.4           2.4   \n",
       "1  2018      1    2   0.0   4.0     29.6     11.4           2.1   \n",
       "2  2018      1    3   0.0   3.6     29.2     13.4           3.2   \n",
       "3  2018      1    4   0.0   3.5     28.6     10.8           3.4   \n",
       "4  2018      1    5   0.0   4.6     28.2      9.6           4.4   \n",
       "\n",
       "   Solar_Radiation  Bright_Sunshine  Rel_Humidity  PM2.5  \n",
       "0             16.2              9.3            89  56.22  \n",
       "1             15.8              9.0            89  63.57  \n",
       "2             12.7              8.4            88  72.61  \n",
       "3             13.9              6.0            89  68.25  \n",
       "4             14.1              7.3            88  70.88  "
      ]
     },
     "execution_count": 3,
     "metadata": {},
     "output_type": "execute_result"
    }
   ],
   "source": [
    "import pandas as pd\n",
    "import os\n",
    "import numpy as np\n",
    "import matplotlib.pyplot as plt\n",
    "import seaborn as sns\n",
    "os.getcwd()\n",
    "\n",
    "os.chdir('C:\\\\Users\\\\iZfig\\OneDrive\\Desktop\\Mini_project\\DataSet')\n",
    "\n",
    "df=pd.read_csv('rawd.csv',delimiter=',')\n",
    "df.head()"
   ]
  },
  {
   "cell_type": "code",
   "execution_count": 4,
   "metadata": {},
   "outputs": [
    {
     "data": {
      "text/plain": [
       "<matplotlib.axes._subplots.AxesSubplot at 0x2933eb37240>"
      ]
     },
     "execution_count": 4,
     "metadata": {},
     "output_type": "execute_result"
    },
    {
     "data": {
      "image/png": "[encoded data removed]",
      "text/plain": [
       "<Figure size 432x288 with 1 Axes>"
      ]
     },
     "metadata": {
      "needs_background": "light"
     },
     "output_type": "display_data"
    }
   ],
   "source": [
    "df.boxplot(column='MaxTemp')"
   ]
  },
  {
   "cell_type": "code",
   "execution_count": 5,
   "metadata": {},
   "outputs": [
    {
     "data": {
      "text/plain": [
       "<matplotlib.axes._subplots.AxesSubplot at 0x2933ee304a8>"
      ]
     },
     "execution_count": 5,
     "metadata": {},
     "output_type": "execute_result"
    },
    {
     "data": {
      "image/png": "[encoded data removed]",
      "text/plain": [
       "<Figure size 432x288 with 1 Axes>"
      ]
     },
     "metadata": {
      "needs_background": "light"
     },
     "output_type": "display_data"
    }
   ],
   "source": [
    "# Elimination of Outliers using IQR\n",
    "q1 = df['MaxTemp'].quantile(0.25)\n",
    "q3 = df['MaxTemp'].quantile(0.75)\n",
    "iqr = q3-q1 #Interquartile range\n",
    "low  = q1-1.5*iqr\n",
    "high = q3+1.5*iqr\n",
    "df = df.loc[(df['MaxTemp'] > low) & (df['MaxTemp'] < high)]\n",
    "df.boxplot(column='MaxTemp')"
   ]
  },
  {
   "cell_type": "code",
   "execution_count": 6,
   "metadata": {},
   "outputs": [
    {
     "data": {
      "text/plain": [
       "<matplotlib.axes._subplots.AxesSubplot at 0x2933eed54a8>"
      ]
     },
     "execution_count": 6,
     "metadata": {},
     "output_type": "execute_result"
    },
    {
     "data": {
      "image/png": "[encoded data removed]",
      "text/plain": [
       "<Figure size 432x288 with 1 Axes>"
      ]
     },
     "metadata": {
      "needs_background": "light"
     },
     "output_type": "display_data"
    }
   ],
   "source": [
    "df.boxplot(column='MinTemp')"
   ]
  },
  {
   "cell_type": "code",
   "execution_count": 7,
   "metadata": {},
   "outputs": [
    {
     "data": {
      "text/plain": [
       "<matplotlib.axes._subplots.AxesSubplot at 0x2933ef286a0>"
      ]
     },
     "execution_count": 7,
     "metadata": {},
     "output_type": "execute_result"
    },
    {
     "data": {
      "image/png": "[encoded data removed]",
      "text/plain": [
       "<Figure size 432x288 with 1 Axes>"
      ]
     },
     "metadata": {
      "needs_background": "light"
     },
     "output_type": "display_data"
    }
   ],
   "source": [
    "# Elimination of Outliers using IQR\n",
    "q1 = df['MinTemp'].quantile(0.25)\n",
    "q3 = df['MinTemp'].quantile(0.75)\n",
    "iqr = q3-q1 #Interquartile range\n",
    "low  = q1-1.5*iqr\n",
    "high = q3+1.5*iqr\n",
    "df = df.loc[(df['MinTemp'] > low) & (df['MinTemp'] < high)]\n",
    "df.boxplot(column='MinTemp')"
   ]
  },
  {
   "cell_type": "code",
   "execution_count": 8,
   "metadata": {},
   "outputs": [
    {
     "data": {
      "text/plain": [
       "Year               0\n",
       "Month              0\n",
       "Day                0\n",
       "Rain               0\n",
       "Evap               0\n",
       "MaxTemp            0\n",
       "MinTemp            0\n",
       "WindVelocity       0\n",
       "Solar_Radiation    0\n",
       "Bright_Sunshine    0\n",
       "Rel_Humidity       0\n",
       "PM2.5              8\n",
       "dtype: int64"
      ]
     },
     "execution_count": 8,
     "metadata": {},
     "output_type": "execute_result"
    }
   ],
   "source": [
    "df.isnull().sum()\n",
    "# 8 Null Values"
   ]
  },
  {
   "cell_type": "code",
   "execution_count": 9,
   "metadata": {},
   "outputs": [],
   "source": [
    "cd=df.fillna(df['PM2.5'].median)\n",
    "# Filling all NaN values with Median"
   ]
  },
  {
   "cell_type": "code",
   "execution_count": 10,
   "metadata": {},
   "outputs": [
    {
     "data": {
      "text/plain": [
       "Year               0\n",
       "Month              0\n",
       "Day                0\n",
       "Rain               0\n",
       "Evap               0\n",
       "MaxTemp            0\n",
       "MinTemp            0\n",
       "WindVelocity       0\n",
       "Solar_Radiation    0\n",
       "Bright_Sunshine    0\n",
       "Rel_Humidity       0\n",
       "PM2.5              0\n",
       "dtype: int64"
      ]
     },
     "execution_count": 10,
     "metadata": {},
     "output_type": "execute_result"
    }
   ],
   "source": [
    "cd.isnull().sum()"
   ]
  },
  {
   "cell_type": "code",
   "execution_count": 11,
   "metadata": {
    "scrolled": true
   },
   "outputs": [
    {
     "name": "stdout",
     "output_type": "stream",
     "text": [
      "<class 'pandas.core.frame.DataFrame'>\n",
      "Int64Index: 585 entries, 0 to 596\n",
      "Data columns (total 12 columns):\n",
      "Year               585 non-null int64\n",
      "Month              585 non-null int64\n",
      "Day                585 non-null int64\n",
      "Rain               585 non-null float64\n",
      "Evap               585 non-null float64\n",
      "MaxTemp            585 non-null float64\n",
      "MinTemp            585 non-null float64\n",
      "WindVelocity       585 non-null float64\n",
      "Solar_Radiation    585 non-null float64\n",
      "Bright_Sunshine    585 non-null float64\n",
      "Rel_Humidity       585 non-null int64\n",
      "PM2.5              577 non-null float64\n",
      "dtypes: float64(8), int64(4)\n",
      "memory usage: 59.4 KB\n"
     ]
    }
   ],
   "source": [
    "df.info()"
   ]
  },
  {
   "cell_type": "code",
   "execution_count": 12,
   "metadata": {},
   "outputs": [
    {
     "name": "stdout",
     "output_type": "stream",
     "text": [
      "<class 'pandas.core.frame.DataFrame'>\n",
      "Int64Index: 585 entries, 0 to 596\n",
      "Data columns (total 12 columns):\n",
      "Year               585 non-null int64\n",
      "Month              585 non-null int64\n",
      "Day                585 non-null int64\n",
      "Rain               585 non-null float64\n",
      "Evap               585 non-null float64\n",
      "MaxTemp            585 non-null float64\n",
      "MinTemp            585 non-null float64\n",
      "WindVelocity       585 non-null float64\n",
      "Solar_Radiation    585 non-null float64\n",
      "Bright_Sunshine    585 non-null float64\n",
      "Rel_Humidity       585 non-null int64\n",
      "PM2.5              585 non-null float64\n",
      "dtypes: float64(8), int64(4)\n",
      "memory usage: 59.4 KB\n"
     ]
    }
   ],
   "source": [
    "df.fillna(df.mean(), inplace=True)\n",
    "df.info()"
   ]
  },
  {
   "cell_type": "code",
   "execution_count": 13,
   "metadata": {},
   "outputs": [
    {
     "data": {
      "text/html": [
       "<div>\n",
       "<style scoped>\n",
       "    .dataframe tbody tr th:only-of-type {\n",
       "        vertical-align: middle;\n",
       "    }\n",
       "\n",
       "    .dataframe tbody tr th {\n",
       "        vertical-align: top;\n",
       "    }\n",
       "\n",
       "    .dataframe thead th {\n",
       "        text-align: right;\n",
       "    }\n",
       "</style>\n",
       "<table border=\"1\" class=\"dataframe\">\n",
       "  <thead>\n",
       "    <tr style=\"text-align: right;\">\n",
       "      <th></th>\n",
       "      <th>Year</th>\n",
       "      <th>Month</th>\n",
       "      <th>Day</th>\n",
       "      <th>Rain</th>\n",
       "      <th>Evap</th>\n",
       "      <th>MaxTemp</th>\n",
       "      <th>MinTemp</th>\n",
       "      <th>WindVelocity</th>\n",
       "      <th>Solar_Radiation</th>\n",
       "      <th>Bright_Sunshine</th>\n",
       "      <th>Rel_Humidity</th>\n",
       "      <th>PM2.5</th>\n",
       "    </tr>\n",
       "  </thead>\n",
       "  <tbody>\n",
       "    <tr>\n",
       "      <th>0</th>\n",
       "      <td>2018</td>\n",
       "      <td>1</td>\n",
       "      <td>1</td>\n",
       "      <td>0.0</td>\n",
       "      <td>3.3</td>\n",
       "      <td>29.8</td>\n",
       "      <td>10.4</td>\n",
       "      <td>2.4</td>\n",
       "      <td>16.2</td>\n",
       "      <td>9.3</td>\n",
       "      <td>89</td>\n",
       "      <td>56.22</td>\n",
       "    </tr>\n",
       "    <tr>\n",
       "      <th>1</th>\n",
       "      <td>2018</td>\n",
       "      <td>1</td>\n",
       "      <td>2</td>\n",
       "      <td>0.0</td>\n",
       "      <td>4.0</td>\n",
       "      <td>29.6</td>\n",
       "      <td>11.4</td>\n",
       "      <td>2.1</td>\n",
       "      <td>15.8</td>\n",
       "      <td>9.0</td>\n",
       "      <td>89</td>\n",
       "      <td>63.57</td>\n",
       "    </tr>\n",
       "    <tr>\n",
       "      <th>2</th>\n",
       "      <td>2018</td>\n",
       "      <td>1</td>\n",
       "      <td>3</td>\n",
       "      <td>0.0</td>\n",
       "      <td>3.6</td>\n",
       "      <td>29.2</td>\n",
       "      <td>13.4</td>\n",
       "      <td>3.2</td>\n",
       "      <td>12.7</td>\n",
       "      <td>8.4</td>\n",
       "      <td>88</td>\n",
       "      <td>72.61</td>\n",
       "    </tr>\n",
       "    <tr>\n",
       "      <th>3</th>\n",
       "      <td>2018</td>\n",
       "      <td>1</td>\n",
       "      <td>4</td>\n",
       "      <td>0.0</td>\n",
       "      <td>3.5</td>\n",
       "      <td>28.6</td>\n",
       "      <td>10.8</td>\n",
       "      <td>3.4</td>\n",
       "      <td>13.9</td>\n",
       "      <td>6.0</td>\n",
       "      <td>89</td>\n",
       "      <td>68.25</td>\n",
       "    </tr>\n",
       "    <tr>\n",
       "      <th>4</th>\n",
       "      <td>2018</td>\n",
       "      <td>1</td>\n",
       "      <td>5</td>\n",
       "      <td>0.0</td>\n",
       "      <td>4.6</td>\n",
       "      <td>28.2</td>\n",
       "      <td>9.6</td>\n",
       "      <td>4.4</td>\n",
       "      <td>14.1</td>\n",
       "      <td>7.3</td>\n",
       "      <td>88</td>\n",
       "      <td>70.88</td>\n",
       "    </tr>\n",
       "  </tbody>\n",
       "</table>\n",
       "</div>"
      ],
      "text/plain": [
       "   Year  Month  Day  Rain  Evap  MaxTemp  MinTemp  WindVelocity  \\\n",
       "0  2018      1    1   0.0   3.3     29.8     10.4           2.4   \n",
       "1  2018      1    2   0.0   4.0     29.6     11.4           2.1   \n",
       "2  2018      1    3   0.0   3.6     29.2     13.4           3.2   \n",
       "3  2018      1    4   0.0   3.5     28.6     10.8           3.4   \n",
       "4  2018      1    5   0.0   4.6     28.2      9.6           4.4   \n",
       "\n",
       "   Solar_Radiation  Bright_Sunshine  Rel_Humidity  PM2.5  \n",
       "0             16.2              9.3            89  56.22  \n",
       "1             15.8              9.0            89  63.57  \n",
       "2             12.7              8.4            88  72.61  \n",
       "3             13.9              6.0            89  68.25  \n",
       "4             14.1              7.3            88  70.88  "
      ]
     },
     "execution_count": 13,
     "metadata": {},
     "output_type": "execute_result"
    }
   ],
   "source": [
    "df.head()\n"
   ]
  },
  {
   "cell_type": "markdown",
   "metadata": {},
   "source": [
    "# Correlation analysis"
   ]
  },
  {
   "cell_type": "code",
   "execution_count": 14,
   "metadata": {
    "scrolled": true
   },
   "outputs": [
    {
     "data": {
      "text/plain": [
       "<matplotlib.axes._subplots.AxesSubplot at 0x2933effbb00>"
      ]
     },
     "execution_count": 14,
     "metadata": {},
     "output_type": "execute_result"
    },
    {
     "data": {
      "image/png": "[encoded data removed]",
      "text/plain": [
       "<Figure size 432x288 with 2 Axes>"
      ]
     },
     "metadata": {
      "needs_background": "light"
     },
     "output_type": "display_data"
    }
   ],
   "source": [
    "c = cd.corr()\n",
    "sns.heatmap(c,xticklabels=c.columns,yticklabels=c.columns)"
   ]
  },
  {
   "cell_type": "code",
   "execution_count": 15,
   "metadata": {},
   "outputs": [
    {
     "name": "stdout",
     "output_type": "stream",
     "text": [
      "<class 'pandas.core.frame.DataFrame'>\n",
      "Int64Index: 585 entries, 0 to 596\n",
      "Data columns (total 12 columns):\n",
      "Year               585 non-null int64\n",
      "Month              585 non-null int64\n",
      "Day                585 non-null int64\n",
      "Rain               585 non-null float64\n",
      "Evap               585 non-null float64\n",
      "MaxTemp            585 non-null float64\n",
      "MinTemp            585 non-null float64\n",
      "WindVelocity       585 non-null float64\n",
      "Solar_Radiation    585 non-null float64\n",
      "Bright_Sunshine    585 non-null float64\n",
      "Rel_Humidity       585 non-null int64\n",
      "PM2.5              585 non-null float64\n",
      "dtypes: float64(8), int64(4)\n",
      "memory usage: 59.4 KB\n"
     ]
    }
   ],
   "source": [
    "df.info()"
   ]
  },
  {
   "cell_type": "markdown",
   "metadata": {},
   "source": [
    "# NO Null Values "
   ]
  },
  {
   "cell_type": "markdown",
   "metadata": {},
   "source": [
    "# Feature Selection\n",
    "Based on the Correlation values \n",
    "The Variables that are chosen for Model:\n",
    "Year,Month,Rain,MinTemp,WindVelocity"
   ]
  },
  {
   "cell_type": "code",
   "execution_count": 16,
   "metadata": {},
   "outputs": [],
   "source": [
    "X = df[[\"Year\", \"Month\",\"Rain\",\"MinTemp\",\"WindVelocity\"]]\n",
    "y = df[\"PM2.5\"]"
   ]
  },
  {
   "cell_type": "markdown",
   "metadata": {},
   "source": [
    "# Train_Test_Split\n",
    "60% training data \n",
    "40% testing data"
   ]
  },
  {
   "cell_type": "code",
   "execution_count": 17,
   "metadata": {},
   "outputs": [],
   "source": [
    "# Split data\n",
    "from sklearn.model_selection import train_test_split\n",
    "X_train, X_test, y_train, y_test = train_test_split(X, y,test_size = 0.4, random_state=1)"
   ]
  },
  {
   "cell_type": "code",
   "execution_count": 18,
   "metadata": {},
   "outputs": [
    {
     "name": "stdout",
     "output_type": "stream",
     "text": [
      "<class 'pandas.core.frame.DataFrame'>\n",
      "Int64Index: 351 entries, 407 to 40\n",
      "Data columns (total 5 columns):\n",
      "Year            351 non-null int64\n",
      "Month           351 non-null int64\n",
      "Rain            351 non-null float64\n",
      "MinTemp         351 non-null float64\n",
      "WindVelocity    351 non-null float64\n",
      "dtypes: float64(3), int64(2)\n",
      "memory usage: 16.5 KB\n"
     ]
    }
   ],
   "source": [
    "X_train.info()"
   ]
  },
  {
   "cell_type": "code",
   "execution_count": 19,
   "metadata": {},
   "outputs": [
    {
     "data": {
      "text/plain": [
       "407    59.840000\n",
       "589    33.640000\n",
       "296    63.780000\n",
       "248    20.390000\n",
       "118    33.320000\n",
       "338    62.060000\n",
       "416    33.610000\n",
       "545    14.620000\n",
       "506    30.300000\n",
       "318    72.380000\n",
       "142    42.440000\n",
       "109    39.500000\n",
       "85     55.020000\n",
       "207    11.980000\n",
       "247    20.690000\n",
       "224     6.360000\n",
       "249    20.240000\n",
       "390    28.570000\n",
       "91     37.990000\n",
       "188    17.310000\n",
       "326    70.500000\n",
       "431    61.070000\n",
       "540    19.740000\n",
       "252    31.930000\n",
       "125    31.400000\n",
       "167    15.680000\n",
       "591    19.110000\n",
       "242    18.230000\n",
       "404    46.890000\n",
       "510    45.110000\n",
       "         ...    \n",
       "212    18.200000\n",
       "319    32.120000\n",
       "525    15.030000\n",
       "316    66.840000\n",
       "546    16.690000\n",
       "322    22.820000\n",
       "7      68.460000\n",
       "405    58.380000\n",
       "144    38.990000\n",
       "89     47.550000\n",
       "490    37.160000\n",
       "515    28.910000\n",
       "218    12.430000\n",
       "574     8.140000\n",
       "410    26.820000\n",
       "502    45.520000\n",
       "255    32.720000\n",
       "480    39.680000\n",
       "361    62.430000\n",
       "257    38.990000\n",
       "279    65.140000\n",
       "181    37.188718\n",
       "284    56.090000\n",
       "402    51.740000\n",
       "520    27.540000\n",
       "132    25.970000\n",
       "147    25.670000\n",
       "75     48.020000\n",
       "238     9.490000\n",
       "40     43.340000\n",
       "Name: PM2.5, Length: 351, dtype: float64"
      ]
     },
     "execution_count": 19,
     "metadata": {},
     "output_type": "execute_result"
    }
   ],
   "source": [
    "y_train"
   ]
  },
  {
   "cell_type": "code",
   "execution_count": 20,
   "metadata": {},
   "outputs": [
    {
     "data": {
      "text/plain": [
       "array([[2.019e+03, 2.000e+00, 0.000e+00, 1.840e+01, 9.400e+00],\n",
       "       [2.019e+03, 8.000e+00, 6.000e-01, 2.280e+01, 6.200e+00],\n",
       "       [2.018e+03, 1.000e+01, 6.000e-01, 2.220e+01, 3.700e+00],\n",
       "       ...,\n",
       "       [2.018e+03, 3.000e+00, 4.000e-01, 1.880e+01, 7.100e+00],\n",
       "       [2.018e+03, 8.000e+00, 4.500e+00, 2.220e+01, 9.600e+00],\n",
       "       [2.018e+03, 2.000e+00, 0.000e+00, 1.360e+01, 4.200e+00]])"
      ]
     },
     "execution_count": 20,
     "metadata": {},
     "output_type": "execute_result"
    }
   ],
   "source": [
    "features = X_train.iloc[:,:].values\n",
    "features"
   ]
  },
  {
   "cell_type": "code",
   "execution_count": 21,
   "metadata": {},
   "outputs": [
    {
     "data": {
      "text/plain": [
       "array([59.84     , 33.64     , 63.78     , 20.39     , 33.32     ,\n",
       "       62.06     , 33.61     , 14.62     , 30.3      , 72.38     ,\n",
       "       42.44     , 39.5      , 55.02     , 11.98     , 20.69     ,\n",
       "        6.36     , 20.24     , 28.57     , 37.99     , 17.31     ,\n",
       "       70.5      , 61.07     , 19.74     , 31.93     , 31.4      ,\n",
       "       15.68     , 19.11     , 18.23     , 46.89     , 45.11     ,\n",
       "       34.44     , 45.8      ,  3.       , 31.78     , 75.16     ,\n",
       "       15.64     , 37.54     , 54.7      , 28.92     , 63.57     ,\n",
       "       56.95     , 62.8      , 48.22     , 38.07     , 28.94     ,\n",
       "       11.33     , 27.27     , 57.46     , 59.8      , 40.39     ,\n",
       "       13.49     , 39.33     ,  6.71     , 68.86     , 33.04     ,\n",
       "       23.45     , 76.88     , 21.04     , 34.93     , 30.53     ,\n",
       "       21.58     , 38.21     , 61.72     , 20.1      , 24.83     ,\n",
       "       14.35     , 19.91     , 37.1887175, 26.81     , 13.57     ,\n",
       "       62.4      , 33.15     , 34.91     , 36.41     , 23.64     ,\n",
       "       35.66     , 40.88     , 77.23     , 36.83     , 23.98     ,\n",
       "       33.81     , 39.97     , 59.5      , 22.23     , 43.66     ,\n",
       "       31.71     ,  7.14     , 24.55     , 30.26     , 26.03     ,\n",
       "       58.7      , 29.82     , 20.02     , 18.5      ,  2.68     ,\n",
       "       78.04     , 20.06     , 15.94     , 31.53     , 71.83     ,\n",
       "       29.07     , 71.22     , 13.6      , 11.91     , 27.08     ,\n",
       "       30.99     , 58.7      , 15.45     , 37.74     , 69.55     ,\n",
       "       34.34     , 14.62     , 19.63     , 11.19     ,  6.19     ,\n",
       "       50.9      , 50.3      , 31.66     ,  9.64     , 21.83     ,\n",
       "       63.21     , 17.64     , 47.45     , 10.25     , 11.04     ,\n",
       "       29.32     , 13.94     , 24.49     , 60.36     , 17.96     ,\n",
       "       36.28     , 44.84     , 17.58     , 36.83     , 39.09     ,\n",
       "       26.09     , 40.91     , 49.19     , 16.13     , 59.78     ,\n",
       "       49.83     , 57.86     , 77.07     , 35.42     , 23.85     ,\n",
       "       28.24     , 36.12     , 71.79     , 13.27     , 56.61     ,\n",
       "       37.07     , 35.19     , 60.18     , 13.68     ,  5.55     ,\n",
       "       20.05     , 65.8      , 49.43     , 50.26     , 30.56     ,\n",
       "       53.83     , 35.01     , 72.17     , 37.1887175, 59.56     ,\n",
       "       11.12     , 63.96     , 78.41     , 50.93     , 10.07     ,\n",
       "       22.59     , 72.05     , 50.92     , 24.21     ,  3.89     ,\n",
       "       16.08     , 10.59     , 48.03     , 56.78     , 53.03     ,\n",
       "       25.14     , 13.85     , 68.97     , 63.82     , 17.32     ,\n",
       "       48.02     , 64.71     , 41.27     , 18.65     , 13.26     ,\n",
       "       31.9      , 58.56     , 37.23     , 15.5      ,  7.47     ,\n",
       "        7.23     , 19.97     , 41.99     ,  8.39     , 40.19     ,\n",
       "       12.72     , 50.19     , 20.77     , 12.92     , 32.46     ,\n",
       "       33.21     , 75.26     , 11.09     , 25.6      , 30.17     ,\n",
       "       52.05     , 65.77     , 33.39     , 34.17     , 33.31     ,\n",
       "       10.77     , 66.76     , 63.43     , 16.66     , 52.58     ,\n",
       "       15.62     , 69.76     ,  6.75     , 16.35     , 13.4      ,\n",
       "       77.86     ,  8.35     , 40.09     , 72.91     , 34.34     ,\n",
       "        7.69     , 25.77     , 74.97     , 73.2      , 76.47     ,\n",
       "       11.51     , 39.99     , 29.45     ,  4.85     , 33.21     ,\n",
       "       41.05     , 27.57     , 25.2      , 13.35     , 27.7      ,\n",
       "       53.15     , 47.39     , 55.2      , 50.53     , 14.67     ,\n",
       "       74.55     , 65.88     , 34.61     , 23.02     , 17.8      ,\n",
       "       45.27     , 30.98     , 53.44     , 35.51     , 76.88     ,\n",
       "       38.14     , 38.08     , 70.73     , 16.4      , 71.8      ,\n",
       "       51.47     , 14.01     , 50.73     , 30.61     ,  9.27     ,\n",
       "       25.53     , 29.18     , 56.04     , 72.61     , 15.85     ,\n",
       "       44.4      , 36.77     , 28.65     , 23.9      , 38.2      ,\n",
       "       73.88     , 60.4      , 25.47     , 34.22     ,  8.51     ,\n",
       "       18.07     , 17.39     , 41.46     ,  6.       , 63.26     ,\n",
       "       39.78     ,  6.18     , 17.12     , 12.56     , 64.25     ,\n",
       "       70.72     , 50.76     , 30.35     , 59.88     , 59.78     ,\n",
       "       36.11     , 74.12     , 67.15     , 10.45     , 37.1887175,\n",
       "       57.2      , 25.19     , 63.2      , 60.7      , 67.77     ,\n",
       "       50.55     , 39.66     ,  0.94     ,  8.67     , 29.56     ,\n",
       "       61.88     , 60.17     , 14.55     , 39.11     , 35.62     ,\n",
       "       32.77     , 18.2      , 32.12     , 15.03     , 66.84     ,\n",
       "       16.69     , 22.82     , 68.46     , 58.38     , 38.99     ,\n",
       "       47.55     , 37.16     , 28.91     , 12.43     ,  8.14     ,\n",
       "       26.82     , 45.52     , 32.72     , 39.68     , 62.43     ,\n",
       "       38.99     , 65.14     , 37.1887175, 56.09     , 51.74     ,\n",
       "       27.54     , 25.97     , 25.67     , 48.02     ,  9.49     ,\n",
       "       43.34     ])"
      ]
     },
     "execution_count": 21,
     "metadata": {},
     "output_type": "execute_result"
    }
   ],
   "source": [
    "labels = y_train.iloc[:].values\n",
    "labels"
   ]
  },
  {
   "cell_type": "code",
   "execution_count": 22,
   "metadata": {},
   "outputs": [],
   "source": [
    "X=features\n",
    "y=labels"
   ]
  },
  {
   "cell_type": "markdown",
   "metadata": {},
   "source": [
    "# Instantiate Multiple linear regrssion model\n",
    "After Feature Selection,we instantiate LinearRegression model and fit the Features and target to the Model"
   ]
  },
  {
   "cell_type": "code",
   "execution_count": 23,
   "metadata": {},
   "outputs": [],
   "source": [
    "from sklearn import linear_model as lm\n",
    "model=lm.LinearRegression()\n",
    "results=model.fit(X,y)"
   ]
  },
  {
   "cell_type": "code",
   "execution_count": 24,
   "metadata": {},
   "outputs": [],
   "source": [
    "#Predictions for the trained Data Set\n",
    "predictions = model.predict(X)"
   ]
  },
  {
   "cell_type": "code",
   "execution_count": 32,
   "metadata": {},
   "outputs": [
    {
     "name": "stdout",
     "output_type": "stream",
     "text": [
      "Accuracy of the model: 70.33709094908502\n"
     ]
    }
   ],
   "source": [
    "#Check model accuracy\n",
    "accuracy=model.score(X,y)\n",
    "print('Accuracy of the model:', (accuracy*100))"
   ]
  },
  {
   "cell_type": "code",
   "execution_count": 33,
   "metadata": {},
   "outputs": [
    {
     "data": {
      "text/plain": [
       "<matplotlib.collections.PathCollection at 0x2933f1a2128>"
      ]
     },
     "execution_count": 33,
     "metadata": {},
     "output_type": "execute_result"
    },
    {
     "data": {
      "image/png": "[encoded data removed]",
      "text/plain": [
       "<Figure size 432x288 with 1 Axes>"
      ]
     },
     "metadata": {
      "needs_background": "light"
     },
     "output_type": "display_data"
    }
   ],
   "source": [
    "#Visualize the predictions\n",
    "plt.scatter(y, predictions)"
   ]
  },
  {
   "cell_type": "markdown",
   "metadata": {},
   "source": [
    "# The Predicted values show a Linear sort of Distribution"
   ]
  },
  {
   "cell_type": "code",
   "execution_count": 34,
   "metadata": {},
   "outputs": [
    {
     "name": "stdout",
     "output_type": "stream",
     "text": [
      "Slope: [ 2.56285651 -0.0987022  -0.49158425 -1.82388739 -2.97915439]\n",
      "Intercept: -5076.170297013493\n",
      "\n",
      "\n"
     ]
    }
   ],
   "source": [
    "#Evaluating the model \n",
    "from sklearn.metrics import mean_squared_error, r2_score\n",
    "\n",
    "# printing values\n",
    "print('Slope:' ,model.coef_)\n",
    "print('Intercept:', model.intercept_)\n",
    "print(\"\\n\")"
   ]
  },
  {
   "cell_type": "code",
   "execution_count": 35,
   "metadata": {},
   "outputs": [
    {
     "name": "stdout",
     "output_type": "stream",
     "text": [
      "The model performance\n",
      "RMSE is 10.97978293271289\n",
      "R2 score is 0.7033709094908502\n"
     ]
    }
   ],
   "source": [
    "import numpy as np\n",
    "rmse = (np.sqrt(mean_squared_error(y,predictions)))\n",
    "r2 = r2_score(y,predictions)\n",
    "\n",
    "print(\"The model performance\")\n",
    "print('RMSE is {}'.format(rmse))\n",
    "print('R2 score is {}'.format(r2))"
   ]
  },
  {
   "cell_type": "markdown",
   "metadata": {},
   "source": [
    "# Integrating the Model to Front end\n"
   ]
  },
  {
   "cell_type": "markdown",
   "metadata": {},
   "source": [
    "# we will use the model's slope and intercept to create a function that takes the features as input and returs the predited target "
   ]
  },
  {
   "cell_type": "code",
   "execution_count": null,
   "metadata": {},
   "outputs": [],
   "source": []
  },
  {
   "cell_type": "code",
   "execution_count": null,
   "metadata": {},
   "outputs": [],
   "source": []
  },
  {
   "cell_type": "code",
   "execution_count": null,
   "metadata": {},
   "outputs": [],
   "source": []
  }
 ],
 "metadata": {
  "kernelspec": {
   "display_name": "Python 3",
   "language": "python",
   "name": "python3"
  },
  "language_info": {
   "codemirror_mode": {
    "name": "ipython",
    "version": 3
   },
   "file_extension": ".py",
   "mimetype": "text/x-python",
   "name": "python",
   "nbconvert_exporter": "python",
   "pygments_lexer": "ipython3",
   "version": "3.7.3"
  }
 },
 "nbformat": 4,
 "nbformat_minor": 2
}
